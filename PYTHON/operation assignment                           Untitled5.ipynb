{
 "cells": [
  {
   "cell_type": "code",
   "execution_count": 7,
   "id": "b23f1c3a-3df0-4fff-9de9-6789d6f4c265",
   "metadata": {},
   "outputs": [
    {
     "name": "stdin",
     "output_type": "stream",
     "text": [
      "Enter a number: 11\n"
     ]
    },
    {
     "name": "stdout",
     "output_type": "stream",
     "text": [
      "11 is an old number\n"
     ]
    }
   ],
   "source": [
    "number=int(input(\"Enter a number:\"))\n",
    "# determine if a number is even or old\n",
    "if number % 2==0:\n",
    "    print(f\"{number} is an even number\")\n",
    "else:\n",
    "    print(f\"{number} is an old number\")"
   ]
  },
  {
   "cell_type": "code",
   "execution_count": 9,
   "id": "156df749-cc0c-41f1-bd78-6c390892a1e4",
   "metadata": {},
   "outputs": [
    {
     "name": "stdin",
     "output_type": "stream",
     "text": [
      "Enter a score (0–100):  95\n"
     ]
    },
    {
     "name": "stdout",
     "output_type": "stream",
     "text": [
      "Grade: A\n"
     ]
    }
   ],
   "source": [
    "# Ask the user to enter a score\n",
    "score = int(input(\"Enter a score (0–100): \"))\n",
    "\n",
    "# Classify the score\n",
    "if score >= 90 and score <= 100:\n",
    "    print(\"Grade: A\")\n",
    "elif score >= 80 and score <= 89:\n",
    "    print(\"Grade: B\")\n",
    "elif score >= 70 and score <= 79:\n",
    "    print(\"Grade: C\")\n",
    "elif score >= 60 and score <= 69:\n",
    "    print(\"Grade: D\")\n",
    "elif score >= 0 and score < 60:\n",
    "    print(\"Grade: Fail\")\n",
    "else:\n",
    "    print(\"Invalid score. Please enter a number between 0 and 100.\")\n"
   ]
  },
  {
   "cell_type": "code",
   "execution_count": 10,
   "id": "b8ce6330-2ffb-4d97-9914-68f71be1d1ea",
   "metadata": {},
   "outputs": [
    {
     "name": "stdin",
     "output_type": "stream",
     "text": [
      "Enter customer type ('regular' or 'premium'):  regular\n",
      "Enter purchase amount (KES):  700\n"
     ]
    },
    {
     "name": "stdout",
     "output_type": "stream",
     "text": [
      "Discount Applied: 0%\n",
      "Final Price after Discount: KES 700.00\n"
     ]
    }
   ],
   "source": [
    "# 🔹Section 3: Customer Discount Checker\n",
    "\n",
    "# Input: Get customer type and purchase amount\n",
    "customer_type = input(\"Enter customer type ('regular' or 'premium'): \").lower()\n",
    "purchase_amount = float(input(\"Enter purchase amount (KES): \"))\n",
    "\n",
    "# Initialize discount\n",
    "discount = 0\n",
    "\n",
    "# Logic to determine discount\n",
    "if customer_type == \"premium\" and purchase_amount > 10000:\n",
    "    discount = 0.20\n",
    "elif customer_type == \"regular\" and purchase_amount > 15000:\n",
    "    discount = 0.10\n",
    "else:\n",
    "    discount = 0\n",
    "\n",
    "# Calculate final price\n",
    "discount_amount = purchase_amount * discount\n",
    "final_price = purchase_amount - discount_amount\n",
    "\n",
    "# Output: Show discount and final price\n",
    "print(f\"Discount Applied: {discount * 100:.0f}%\")\n",
    "print(f\"Final Price after Discount: KES {final_price:,.2f}\")\n"
   ]
  },
  {
   "cell_type": "code",
   "execution_count": 11,
   "id": "8f0231b6-204a-4764-b6a5-996067f245f7",
   "metadata": {},
   "outputs": [
    {
     "name": "stdin",
     "output_type": "stream",
     "text": [
      "Enter your age:  17\n"
     ]
    },
    {
     "name": "stdout",
     "output_type": "stream",
     "text": [
      "Access Denied\n"
     ]
    }
   ],
   "source": [
    "# 🔹Section 4: Simple Age Access Checker\n",
    "\n",
    "# Ask for user's age\n",
    "age = int(input(\"Enter your age: \"))\n",
    "\n",
    "# Check access\n",
    "if age < 18:\n",
    "    print(\"Access Denied\")\n",
    "else:\n",
    "    print(\"Access Granted\")\n"
   ]
  },
  {
   "cell_type": "code",
   "execution_count": 12,
   "id": "a09f6490-06ed-4ae5-88ed-baa448f3b527",
   "metadata": {},
   "outputs": [
    {
     "name": "stdin",
     "output_type": "stream",
     "text": [
      "Enter your age:  24\n",
      "Enter your monthly income (KES):  1200\n"
     ]
    },
    {
     "name": "stdout",
     "output_type": "stream",
     "text": [
      "Eligible for scholarship\n"
     ]
    }
   ],
   "source": [
    "# 🔹Scholarship Eligibility Checker\n",
    "\n",
    "# Ask for age and income\n",
    "age = int(input(\"Enter your age: \"))\n",
    "income = float(input(\"Enter your monthly income (KES): \"))\n",
    "\n",
    "# Check eligibility\n",
    "if age < 25 and income < 20000:\n",
    "    print(\"Eligible for scholarship\")\n",
    "else:\n",
    "    print(\"Not eligible\")\n",
    "    \n"
   ]
  },
  {
   "cell_type": "code",
   "execution_count": null,
   "id": "dee239c1-2336-4d2e-a846-af715302f182",
   "metadata": {},
   "outputs": [],
   "source": []
  }
 ],
 "metadata": {
  "kernelspec": {
   "display_name": "Python 3 (ipykernel)",
   "language": "python",
   "name": "python3"
  },
  "language_info": {
   "codemirror_mode": {
    "name": "ipython",
    "version": 3
   },
   "file_extension": ".py",
   "mimetype": "text/x-python",
   "name": "python",
   "nbconvert_exporter": "python",
   "pygments_lexer": "ipython3",
   "version": "3.13.5"
  }
 },
 "nbformat": 4,
 "nbformat_minor": 5
}
