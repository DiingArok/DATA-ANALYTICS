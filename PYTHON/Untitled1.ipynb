{
 "cells": [
  {
   "cell_type": "markdown",
   "id": "f7eba48e-5a9d-479e-be36-7464bc7458d1",
   "metadata": {},
   "source": [
    "## special math operaction "
   ]
  },
  {
   "cell_type": "code",
   "execution_count": 4,
   "id": "3e419e90-85c6-44e4-a342-2e4a2bc92eac",
   "metadata": {},
   "outputs": [
    {
     "name": "stdout",
     "output_type": "stream",
     "text": [
      "Each person gets 4 cookies\n"
     ]
    }
   ],
   "source": [
    "total_cookies=23\n",
    "people=5\n",
    "cookies_per_person=total_cookies //people\n",
    "print(\"Each person gets\", cookies_per_person, \"cookies\") \n",
    "     "
   ]
  },
  {
   "cell_type": "code",
   "execution_count": 5,
   "id": "f3bace4e-4c08-46ac-80a3-e58f6918c5b4",
   "metadata": {},
   "outputs": [
    {
     "name": "stdout",
     "output_type": "stream",
     "text": [
      "Are we the same age as my friend? False\n"
     ]
    }
   ],
   "source": [
    "my_age=20\n",
    "my_friends_age=35\n",
    "same_age=my_age==my_friends_age #Returns false\n",
    "print(\"Are we the same age as my friend?\",same_age)"
   ]
  },
  {
   "cell_type": "code",
   "execution_count": 10,
   "id": "d7e186b8-3c22-4c7d-992f-f7210f93862c",
   "metadata": {},
   "outputs": [
    {
     "name": "stdout",
     "output_type": "stream",
     "text": [
      "you can drink\n"
     ]
    }
   ],
   "source": [
    "age=23\n",
    "if age>=21:\n",
    "    print(\"you can drink\")\n",
    "    \n"
   ]
  },
  {
   "cell_type": "code",
   "execution_count": 13,
   "id": "b5068d4e-02b6-4ef1-8438-f217df404813",
   "metadata": {},
   "outputs": [
    {
     "name": "stdout",
     "output_type": "stream",
     "text": [
      "your grade is C\n"
     ]
    }
   ],
   "source": [
    "# create a grading system\n",
    "\n",
    "marks=65\n",
    "if marks>80:\n",
    "    print(\"your grade is A\")\n",
    "elif marks>=70 and marks <=79:\n",
    "    print(\"your grade is B\")\n",
    "elif marks>=60 and marks <=69:\n",
    "    print(\"your grade is C\")\n",
    "elif marks>=50 and marks <= 59:\n",
    "    print(\"your grade is D\")\n",
    "else: \n",
    "    print(\"you fail!!!\")\n",
    "    \n"
   ]
  },
  {
   "cell_type": "code",
   "execution_count": null,
   "id": "b83e6f78-e0b0-467b-a46e-7cf84a29aafb",
   "metadata": {},
   "outputs": [],
   "source": []
  }
 ],
 "metadata": {
  "kernelspec": {
   "display_name": "Python 3 (ipykernel)",
   "language": "python",
   "name": "python3"
  },
  "language_info": {
   "codemirror_mode": {
    "name": "ipython",
    "version": 3
   },
   "file_extension": ".py",
   "mimetype": "text/x-python",
   "name": "python",
   "nbconvert_exporter": "python",
   "pygments_lexer": "ipython3",
   "version": "3.13.5"
  }
 },
 "nbformat": 4,
 "nbformat_minor": 5
}
