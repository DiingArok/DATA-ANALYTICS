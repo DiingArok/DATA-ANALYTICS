{
 "cells": [
  {
   "cell_type": "markdown",
   "id": "cc93941c-74c6-4327-ba48-165958df1f7a",
   "metadata": {},
   "source": [
    "## LISTS"
   ]
  },
  {
   "cell_type": "code",
   "execution_count": 4,
   "id": "30dd6075-f0bb-4a3f-abbd-1c0edfd30509",
   "metadata": {},
   "outputs": [
    {
     "name": "stdout",
     "output_type": "stream",
     "text": [
      "Original list: ['milk', 'bread', 'eggs']\n"
     ]
    }
   ],
   "source": [
    "# Starting with a shopping list\n",
    "shopping_list = [\"milk\", \"bread\", \"eggs\"]\n",
    "print(\"Original list:\", shopping_list)"
   ]
  },
  {
   "cell_type": "code",
   "execution_count": 5,
   "id": "e422cee7-d63b-4f15-929e-c68ba2c3a3f7",
   "metadata": {},
   "outputs": [
    {
     "name": "stdout",
     "output_type": "stream",
     "text": [
      "After inserting butter: ['milk', 'butter', 'bread', 'eggs']\n"
     ]
    }
   ],
   "source": [
    "# Inserting items at specific positions\n",
    "shopping_list.insert(1, \"butter\") # Insert at position 1\n",
    "print(\"After inserting butter:\", shopping_list)"
   ]
  },
  {
   "cell_type": "code",
   "execution_count": 6,
   "id": "bbc7c396-671e-4e69-8490-335157117538",
   "metadata": {},
   "outputs": [
    {
     "name": "stdout",
     "output_type": "stream",
     "text": [
      "After removing bread: ['milk', 'butter', 'eggs']\n"
     ]
    }
   ],
   "source": [
    "# Removing items\n",
    "shopping_list.remove(\"bread\") # Remove by name\n",
    "print(\"After removing bread:\", shopping_list)"
   ]
  },
  {
   "cell_type": "markdown",
   "id": "4844e8c0-fa14-47a2-aed3-451c8dab05e6",
   "metadata": {},
   "source": [
    "## LOOPE"
   ]
  },
  {
   "cell_type": "code",
   "execution_count": 7,
   "id": "56e60304-ae0e-4aea-99c7-31151b2277bb",
   "metadata": {},
   "outputs": [
    {
     "name": "stdout",
     "output_type": "stream",
     "text": [
      "I like apple\n",
      "I like banana\n",
      "I like orange\n"
     ]
    }
   ],
   "source": [
    "# Without a loop (tedious):\n",
    "fruits = [\"apple\", \"banana\", \"orange\"]\n",
    "print(\"I like\", fruits[0])\n",
    "print(\"I like\", fruits[1])\n",
    "print(\"I like\", fruits[2])"
   ]
  },
  {
   "cell_type": "code",
   "execution_count": 53,
   "id": "19ee04fa-b177-4112-b534-f12428441ad4",
   "metadata": {},
   "outputs": [
    {
     "name": "stdout",
     "output_type": "stream",
     "text": [
      "Dear Alice Johnson,\n",
      "Thank you for your business!\n",
      "Best regards, The Team\n",
      "---\n",
      "Dear Bob Smith,\n",
      "Thank you for your business!\n",
      "Best regards, The Team\n",
      "---\n",
      "Dear Carol Davis,\n",
      "Thank you for your business!\n",
      "Best regards, The Team\n",
      "---\n"
     ]
    }
   ],
   "source": [
    "# Example 2: Sending personalized emails (simulation)\n",
    "customers = [\"Alice Johnson\", \"Bob Smith\", \"Carol Davis\"]\n",
    "for customer in customers:\n",
    "  print(f\"Dear {customer},\")\n",
    "  print(\"Thank you for your business!\")\n",
    "  print(\"Best regards, The Team\")\n",
    "  print(\"---\") # Separator between emails"
   ]
  },
  {
   "cell_type": "code",
   "execution_count": 15,
   "id": "3c9affeb-26bb-4c26-b51f-017f79218f9c",
   "metadata": {},
   "outputs": [],
   "source": [
    "# Creating a dictionary - like a mini database\n",
    "person = {\n",
    "\"name\": \"Alice Johnson\",\n",
    "\"age\": 28,\n",
    "\"city\": \"New York\",\n",
    "\"job\": \"Data Analyst\",\n",
    "\"salary\": 65000\n",
    "}\n",
    "# The structure is: \"key\": \"value\"\n",
    "# Keys are like labels, values are the actual information"
   ]
  },
  {
   "cell_type": "code",
   "execution_count": 16,
   "id": "51e59960-290a-4d97-bab7-8c3f9e87d31e",
   "metadata": {},
   "outputs": [
    {
     "name": "stdout",
     "output_type": "stream",
     "text": [
      "Name: Alice Johnson\n",
      "Age: 28\n",
      "Job: Data Analyst\n"
     ]
    }
   ],
   "source": [
    "# Accessing information (like looking up in a real dictionary)\n",
    "print(\"Name:\", person[\"name\"]) # Shows: Alice Johnson\n",
    "print(\"Age:\", person[\"age\"]) # Shows: 28\n",
    "print(\"Job:\", person[\"job\"]) # Shows: Data Analyst"
   ]
  },
  {
   "cell_type": "markdown",
   "id": "75803759-fa8c-4508-b2eb-a9e9486007f8",
   "metadata": {},
   "source": [
    "### FUNCTIONS"
   ]
  },
  {
   "cell_type": "code",
   "execution_count": 17,
   "id": "c6941f0d-6838-4d4e-b3d4-1c6cc6e0e82d",
   "metadata": {},
   "outputs": [
    {
     "name": "stdout",
     "output_type": "stream",
     "text": [
      "Welcome to our store!\n",
      "Thanks for shopping with us!\n",
      "Have a great day!\n"
     ]
    }
   ],
   "source": [
    "# Without functions (lots of repeated code):\n",
    "print(\"Welcome to our store!\")\n",
    "print(\"Thanks for shopping with us!\")\n",
    "print(\"Have a great day!\")"
   ]
  },
  {
   "cell_type": "code",
   "execution_count": 18,
   "id": "c956a864-eb81-43c7-a60c-88475b3cf25b",
   "metadata": {},
   "outputs": [
    {
     "name": "stdout",
     "output_type": "stream",
     "text": [
      "Welcome to our store!\n",
      "Thanks for shopping with us!\n",
      "Have a great day!\n"
     ]
    }
   ],
   "source": [
    "print(\"Welcome to our store!\")\n",
    "print(\"Thanks for shopping with us!\")\n",
    "print(\"Have a great day!\")"
   ]
  },
  {
   "cell_type": "markdown",
   "id": "e5cb3b6e-6eaf-45c9-ad4d-d83acec06fc6",
   "metadata": {},
   "source": [
    "## CREATING BASIC FUNCTION"
   ]
  },
  {
   "cell_type": "code",
   "execution_count": 21,
   "id": "8c944082-5765-479c-8189-141581d1d6c2",
   "metadata": {},
   "outputs": [],
   "source": [
    "def say_hello():\n",
    "  print(\"Hello there!\")\n",
    "  print(\"How are you today?\")"
   ]
  },
  {
   "cell_type": "markdown",
   "id": "0d0b072c-1475-4302-a4d0-7e9195443a15",
   "metadata": {},
   "source": [
    "## FUNCTION WITH PARAMETRE"
   ]
  },
  {
   "cell_type": "code",
   "execution_count": 23,
   "id": "ca1c11ae-30d4-4832-b112-1eea06f258e3",
   "metadata": {},
   "outputs": [],
   "source": [
    "def greet_person(name):\n",
    "  print(f\"Hello, {name}!\")\n",
    "  print(\"Welcome to our program!\")"
   ]
  },
  {
   "cell_type": "code",
   "execution_count": 24,
   "id": "35bc8157-bb54-43c1-bed0-420e83f50258",
   "metadata": {},
   "outputs": [
    {
     "name": "stdout",
     "output_type": "stream",
     "text": [
      "Hello, Alice!\n",
      "Welcome to our program!\n",
      "Hello, Bob!\n",
      "Welcome to our program!\n",
      "Hello, Carol!\n",
      "Welcome to our program!\n"
     ]
    }
   ],
   "source": [
    "# Using the function with different names\n",
    "greet_person(\"Alice\") # Hello, Alice!\n",
    "greet_person(\"Bob\") # Hello, Bob!\n",
    "greet_person(\"Carol\") # Hello, Carol!"
   ]
  },
  {
   "cell_type": "code",
   "execution_count": 26,
   "id": "eb9fa308-7828-409f-a0e0-0cc8c07ccf7e",
   "metadata": {},
   "outputs": [],
   "source": [
    "# Function with multiple parameters\n",
    "def introduce_person(name, age, city):\n",
    "  print(f\"This is {name}.\")\n",
    "  print(f\"They are {age} years old.\")\n",
    "  print(f\"They live in {city}.\")"
   ]
  },
  {
   "cell_type": "code",
   "execution_count": 27,
   "id": "015dc7dc-2d71-4aa1-b4d5-277838ae8a0e",
   "metadata": {},
   "outputs": [
    {
     "name": "stdout",
     "output_type": "stream",
     "text": [
      "This is Alice.\n",
      "They are 28 years old.\n",
      "They live in New York.\n",
      "This is Bob.\n",
      "They are 35 years old.\n",
      "They live in Chicago.\n"
     ]
    }
   ],
   "source": [
    "introduce_person(\"Alice\", 28, \"New York\")\n",
    "introduce_person(\"Bob\", 35, \"Chicago\")"
   ]
  },
  {
   "cell_type": "markdown",
   "id": "9666ba43-b582-425d-993e-50b3a2af7a4a",
   "metadata": {},
   "source": [
    "## FUNCTION THAT GIVERS YOU SOMETHING BACK"
   ]
  },
  {
   "cell_type": "code",
   "execution_count": 29,
   "id": "78fdaebf-061e-460b-bdc7-e7c90245d155",
   "metadata": {},
   "outputs": [],
   "source": [
    "# Function that calculates and returns a result\n",
    "def add_numbers(num1, num2):\n",
    "  result = num1 + num2\n",
    "  return result # Send the answer back"
   ]
  },
  {
   "cell_type": "code",
   "execution_count": 30,
   "id": "1a07ec25-3106-4347-ba02-2eb6ccfeeaf3",
   "metadata": {},
   "outputs": [
    {
     "name": "stdout",
     "output_type": "stream",
     "text": [
      "The sum is: 8\n"
     ]
    }
   ],
   "source": [
    "# Using the returned value\n",
    "sum_result = add_numbers(5, 3)\n",
    "print(\"The sum is:\", sum_result) # Shows: 8"
   ]
  },
  {
   "cell_type": "code",
   "execution_count": 32,
   "id": "f0fd736b-2aba-4a92-9232-2ce243ae55c2",
   "metadata": {},
   "outputs": [],
   "source": [
    "def calculate_tip(bill_amount, tip_percentage):\n",
    "  tip = bill_amount * (tip_percentage / 100)\n",
    "  total = bill_amount + tip\n",
    "  return total"
   ]
  },
  {
   "cell_type": "markdown",
   "id": "1e524b8c-45a2-433a-9bc1-1d1f59531fb8",
   "metadata": {},
   "source": [
    "## REAL_ WORLD EXAMPLE"
   ]
  },
  {
   "cell_type": "code",
   "execution_count": 58,
   "id": "108ef684-4353-47ad-ab85-8cfbe56f63af",
   "metadata": {},
   "outputs": [],
   "source": [
    "# Function to analyze grades\n",
    "def analyze_grade(score):\n",
    "    if score >= 90:\n",
    "        print(\"Grade: A\")\n",
    "        print(\"Excellent work!\")\n",
    "    elif score >= 80:\n",
    "        print(\"grade: B\")\n",
    "        print(\"Good job!\")\n",
    "    elif score >= 70:\n",
    "        print(\"Grade: C\")\n",
    "        print(\"Satisfactory\")\n",
    "    elif score >= 60:\n",
    "        print(\"Grade: D\")\n",
    "        print(\"Needs improvement\")\n",
    "    else:\n",
    "        print(\"F\")\n",
    "        print(\"Please see the teacher\")\n"
   ]
  },
  {
   "cell_type": "code",
   "execution_count": 60,
   "id": "45345114-f426-4281-9266-36db8cfa8146",
   "metadata": {},
   "outputs": [
    {
     "name": "stdout",
     "output_type": "stream",
     "text": [
      "Grade: C\n",
      "Satisfactory\n"
     ]
    }
   ],
   "source": [
    "analyze_grade(79)"
   ]
  },
  {
   "cell_type": "code",
   "execution_count": null,
   "id": "397977ea-81eb-4bf5-88be-b1fd13a57079",
   "metadata": {},
   "outputs": [],
   "source": []
  }
 ],
 "metadata": {
  "kernelspec": {
   "display_name": "Python 3 (ipykernel)",
   "language": "python",
   "name": "python3"
  },
  "language_info": {
   "codemirror_mode": {
    "name": "ipython",
    "version": 3
   },
   "file_extension": ".py",
   "mimetype": "text/x-python",
   "name": "python",
   "nbconvert_exporter": "python",
   "pygments_lexer": "ipython3",
   "version": "3.13.5"
  }
 },
 "nbformat": 4,
 "nbformat_minor": 5
}
