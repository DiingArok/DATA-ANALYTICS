{
 "cells": [
  {
   "cell_type": "code",
   "execution_count": 1,
   "id": "c0681cbc-152b-4faf-aec3-d9c4898c3800",
   "metadata": {},
   "outputs": [],
   "source": [
    "import pandas as pd\n",
    "import numpy as nd"
   ]
  },
  {
   "cell_type": "code",
   "execution_count": 10,
   "id": "f93579f1-db0d-4860-b1df-15f478a9b243",
   "metadata": {},
   "outputs": [
    {
     "name": "stdout",
     "output_type": "stream",
     "text": [
      "<bound method NDFrame.head of    Product_ID Product_Name     Category  Price  Stock_Quantity    Supplier\n",
      "0       TG001     Gadget 1     Charging  10.67             132  ChargeFast\n",
      "1       TG002     Gadget 2     Charging  65.46             234    TechCorp\n",
      "2       TG003     Gadget 3  Accessories  44.85              11    DeskMate\n",
      "3       TG004     Gadget 4     Charging  92.02              42   PowerPlus\n",
      "4       TG005     Gadget 5        Audio  49.79              12    SoundMax\n",
      "5       TG006     Gadget 6       Cables  20.57              62    DeskMate\n",
      "6       TG007     Gadget 7   Protection  57.67              54    SoundMax\n",
      "7       TG008     Gadget 8        Audio  82.83             195  ChargeFast\n",
      "8       TG009     Gadget 9        Audio  95.23              98  ChargeFast\n",
      "9       TG010    Gadget 10       Cables  95.69             148    SoundMax\n",
      "10      TG011    Gadget 11   Protection  18.89              70  ChargeFast\n",
      "11      TG012    Gadget 12       Cables  40.21              39    TechCorp\n",
      "12      TG013    Gadget 13     Charging  51.72             228    DeskMate\n",
      "13      TG014    Gadget 14  Accessories  43.53             214    SoundMax\n",
      "14      TG015    Gadget 15     Charging  63.93              21    GuardPro\n",
      "15      TG016    Gadget 16       Cables  83.29              75    DeskMate\n",
      "16      TG017    Gadget 17       Cables  25.99             108    GuardPro\n",
      "17      TG018    Gadget 18       Cables  12.80             134  ChargeFast\n",
      "18      TG019    Gadget 19  Accessories  14.68             169  ChargeFast\n",
      "19      TG020    Gadget 20       Cables  46.64             115   PowerPlus\n",
      "20      TG021    Gadget 21  Accessories  94.77             206   PowerPlus\n",
      "21      TG022    Gadget 22     Charging  92.27             129   PowerPlus\n",
      "22      TG023    Gadget 23   Protection  71.17             171  ChargeFast\n",
      "23      TG024    Gadget 24  Accessories  30.36             146    DeskMate\n",
      "24      TG025    Gadget 25  Accessories  19.68              40  ChargeFast\n",
      "25      TG026    Gadget 26       Cables  29.46             118    GuardPro\n",
      "26      TG027    Gadget 27  Accessories  95.90              30    DeskMate\n",
      "27      TG028    Gadget 28        Audio  82.88             204    SoundMax\n",
      "28      TG029    Gadget 29  Accessories  94.85             236   PowerPlus\n",
      "29      TG030    Gadget 30     Charging  84.95              74    SoundMax>\n"
     ]
    }
   ],
   "source": [
    "df = pd.read_csv('datasets/techgadget_products.csv')\n",
    "print(df.head)\n"
   ]
  },
  {
   "cell_type": "code",
   "execution_count": 11,
   "id": "8c646742-ec61-4ff1-a328-6a0570ab5865",
   "metadata": {},
   "outputs": [
    {
     "name": "stdout",
     "output_type": "stream",
     "text": [
      "Dataset shape: YOUR_ANSWER_HERE\n",
      "First 5 products:\n",
      "Product categories: YOUR_ANSWER_HERE\n"
     ]
    }
   ],
   "source": [
    "# a) What is the shape of the dataset?\n",
    "print(\"Dataset shape:\", \"YOUR_ANSWER_HERE\")\n",
    "# b) Display the first 5 products\n",
    "print(\"First 5 products:\")\n",
    "# YOUR CODE HERE\n",
    "# c) What are all the unique categories?\n",
    "print(\"Product categories:\", \"YOUR_ANSWER_HERE\")"
   ]
  },
  {
   "cell_type": "code",
   "execution_count": 12,
   "id": "7e3c3813-5315-449e-8daa-74a187be1f14",
   "metadata": {},
   "outputs": [
    {
     "name": "stdout",
     "output_type": "stream",
     "text": [
      "Top 3 most expensive products:\n",
      "Products over $50:\n",
      "Average price: $ YOUR_ANSWER_HERE\n"
     ]
    }
   ],
   "source": [
    "# a) What are the top 3 most expensive products?\n",
    "print(\"Top 3 most expensive products:\")\n",
    "# YOUR CODE HERE: Use sorting or filtering\n",
    "# b) Find all products priced above $50\n",
    "print(\"Products over $50:\")\n",
    "# YOUR CODE HERE\n",
    "# c) What's the average price of all products?\n",
    "print(\"Average price: $\", \"YOUR_ANSWER_HERE\")"
   ]
  },
  {
   "cell_type": "code",
   "execution_count": 13,
   "id": "9ea5f8fe-3ec6-441b-99c7-abae57f597c1",
   "metadata": {},
   "outputs": [
    {
     "name": "stdout",
     "output_type": "stream",
     "text": [
      "Low stock products (< 50 units):\n",
      "Charging products and stock:\n",
      "Supplier with most products: YOUR_ANSWER_HERE\n"
     ]
    }
   ],
   "source": [
    "# a) Which products have less than 50 items in stock?\n",
    "print(\"Low stock products (< 50 units):\")\n",
    "# YOUR CODE HERE\n",
    "# b) Find all 'Charging' category products with their stock levels\n",
    "print(\"Charging products and stock:\")\n",
    "# YOUR CODE HERE\n",
    "# c) Which supplier provides the most products?\n",
    "print(\"Supplier with most products:\", \"YOUR_ANSWER_HERE\")"
   ]
  },
  {
   "cell_type": "code",
   "execution_count": 14,
   "id": "01703e4f-3b8f-4908-8981-4372e1658350",
   "metadata": {},
   "outputs": [
    {
     "name": "stdout",
     "output_type": "stream",
     "text": [
      "Expensive accessories:\n",
      "Inventory value by category:\n"
     ]
    }
   ],
   "source": [
    "# a) Find expensive accessories (Accessories category, price > $30)\n",
    "print(\"Expensive accessories:\")\n",
    "# YOUR CODE HERE\n",
    "# b) Calculate total value of inventory for each category\n",
    "print(\"Inventory value by category:\")\n",
    "# BONUS: This requires groupby - we'll learn this in the next module!"
   ]
  },
  {
   "cell_type": "code",
   "execution_count": null,
   "id": "5f8e31ac-896e-4b99-a7a4-b34a88984822",
   "metadata": {},
   "outputs": [],
   "source": []
  }
 ],
 "metadata": {
  "kernelspec": {
   "display_name": "Python 3 (ipykernel)",
   "language": "python",
   "name": "python3"
  },
  "language_info": {
   "codemirror_mode": {
    "name": "ipython",
    "version": 3
   },
   "file_extension": ".py",
   "mimetype": "text/x-python",
   "name": "python",
   "nbconvert_exporter": "python",
   "pygments_lexer": "ipython3",
   "version": "3.13.5"
  }
 },
 "nbformat": 4,
 "nbformat_minor": 5
}
