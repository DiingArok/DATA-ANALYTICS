{
 "cells": [
  {
   "cell_type": "code",
   "execution_count": null,
   "id": "82efe299-4499-4ee3-9bb5-00563e475538",
   "metadata": {},
   "outputs": [],
   "source": []
  }
 ],
 "metadata": {
  "kernelspec": {
   "display_name": "",
   "name": ""
  },
  "language_info": {
   "name": ""
  }
 },
 "nbformat": 4,
 "nbformat_minor": 5
}
